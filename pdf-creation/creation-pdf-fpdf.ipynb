{
 "cells": [
  {
   "attachments": {},
   "cell_type": "markdown",
   "metadata": {},
   "source": [
    "# Creation of PDF files in *Python*"
   ]
  },
  {
   "cell_type": "code",
   "execution_count": null,
   "metadata": {},
   "outputs": [],
   "source": [
    "import pandas as pd"
   ]
  },
  {
   "cell_type": "code",
   "execution_count": null,
   "metadata": {},
   "outputs": [],
   "source": [
    "from fpdf import FPDF"
   ]
  },
  {
   "attachments": {},
   "cell_type": "markdown",
   "metadata": {},
   "source": [
    "## Link vídeo do YT com tutorial\n",
    "[YT Tutorial](https://www.youtube.com/watch?v=K7l1rCwmwWk)"
   ]
  },
  {
   "cell_type": "code",
   "execution_count": null,
   "metadata": {},
   "outputs": [],
   "source": [
    "poesia = \"\"\"\n",
    "Ó mar salgado, quanto do teu sal\\n\n",
    "São lágrimas de Portugal!\\n\n",
    "Por te cruzarmos, quantas mães choraram,\\n\n",
    "Quantos filhos em vão rezaram!\\n\n",
    "Quantas noivas ficaram por casar\\n\n",
    "Para que fosses nosso, ó mar!Valeu a pena? Tudo vale a pena\\n\n",
    "Se a alma não é pequena.\\n\n",
    "Quem quer passar além do Bojador\\n\n",
    "Tem que passar além da dor.\\n\n",
    "Deus ao mar o perigo e o abismo deu,\\n\n",
    "Mas nele é que espelhou o céu.\\n\n",
    "\"\"\"\n",
    "\n",
    "lista = [f for f in poesia.splitlines()]"
   ]
  },
  {
   "cell_type": "code",
   "execution_count": 31,
   "metadata": {},
   "outputs": [],
   "source": [
    "pdf = FPDF('P', 'mm', 'A4')\n",
    "\n",
    "w = 210\n",
    "h = 297\n",
    "\n",
    "pdf.set_font('Arial', 'B', 16)\n",
    "pdf.set_margins(5, 5, 5)\n",
    "\n",
    "pdf.add_page()\n",
    "pdf.cell(0, 7, 'Página 1', border=1, align='C')\n",
    "\n",
    "pdf.set_font('Arial', 'I', 12)\n",
    "\n",
    "pdf.set_xy(15, 20)\n",
    "\n",
    "pdf.multi_cell(0, 7, txt = poesia, border='D')\n",
    "\n",
    "pdf.output(\"Tutorial.pdf\")\n"
   ]
  },
  {
   "cell_type": "code",
   "execution_count": null,
   "metadata": {},
   "outputs": [],
   "source": []
  }
 ],
 "metadata": {
  "kernelspec": {
   "display_name": "Python 3",
   "language": "python",
   "name": "python3"
  },
  "language_info": {
   "codemirror_mode": {
    "name": "ipython",
    "version": 3
   },
   "file_extension": ".py",
   "mimetype": "text/x-python",
   "name": "python",
   "nbconvert_exporter": "python",
   "pygments_lexer": "ipython3",
   "version": "3.11.3"
  },
  "orig_nbformat": 4
 },
 "nbformat": 4,
 "nbformat_minor": 2
}
